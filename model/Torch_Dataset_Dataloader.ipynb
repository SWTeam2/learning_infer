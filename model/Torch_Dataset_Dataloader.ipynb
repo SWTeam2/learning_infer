{
  "cells": [
    {
      "cell_type": "code",
      "execution_count": null,
      "metadata": {
        "colab": {
          "base_uri": "https://localhost:8080/"
        },
        "id": "P3R8YTXWh4Nk",
        "outputId": "0b2f76bf-729f-4223-b4aa-cbd93e25a62b"
      },
      "outputs": [
        {
          "name": "stdout",
          "output_type": "stream",
          "text": [
            "Mounted at /content/drive\n"
          ]
        }
      ],
      "source": [
        "from google.colab import drive\n",
        "drive.mount('/content/drive')"
      ]
    },
    {
      "cell_type": "code",
      "execution_count": 2,
      "metadata": {
        "id": "ZRXOUoT9SV3J"
      },
      "outputs": [],
      "source": [
        "import os\n",
        "import pickle as pkl\n",
        "import torch\n",
        "from torch.utils.data import Dataset\n",
        "from torch.utils.data import DataLoader\n",
        "import numpy as np"
      ]
    },
    {
      "cell_type": "markdown",
      "metadata": {
        "id": "C6K8Z8Lg7at_"
      },
      "source": [
        "#피클파일 로드하는 함수"
      ]
    },
    {
      "cell_type": "code",
      "execution_count": 3,
      "metadata": {
        "id": "lixyHvNclzp-"
      },
      "outputs": [],
      "source": [
        "def load_data_from_pfile(file_path):\n",
        "    with open(file_path, 'rb') as pfile:\n",
        "        sample_data = pkl.load(pfile)\n",
        "    return sample_data"
      ]
    },
    {
      "cell_type": "markdown",
      "metadata": {
        "id": "-Qd5uxQHc4S0"
      },
      "source": [
        "#피클파일이 있는 디렉토리 경로"
      ]
    },
    {
      "cell_type": "code",
      "execution_count": 4,
      "metadata": {
        "id": "dO5zvUCmc17i"
      },
      "outputs": [],
      "source": [
        "pkzfiles_path = '/home/i4624/vscode/gitclone/SWbootProject_2023-7/Team-project/data/ieee-phm-2012-data-challenge-dataset-master/Learning_set/'"
      ]
    },
    {
      "cell_type": "code",
      "execution_count": 5,
      "metadata": {
        "colab": {
          "base_uri": "https://localhost:8080/"
        },
        "id": "iwPC-ywwcMaE",
        "outputId": "51be15b7-9b5a-4c83-b643-12870340c284"
      },
      "outputs": [
        {
          "name": "stdout",
          "output_type": "stream",
          "text": [
            "(2523, 2, 128, 128) (2523,)\n"
          ]
        }
      ],
      "source": [
        "sample_file = pkzfiles_path + 'bearing1_1_train_data.pkz'\n",
        "sample_data = load_data_from_pfile(sample_file)\n",
        "print(sample_data['x'].shape, sample_data['y'].shape)"
      ]
    },
    {
      "cell_type": "markdown",
      "metadata": {
        "id": "klcn6_II18tk"
      },
      "source": [
        "#데이터셋 클래스"
      ]
    },
    {
      "cell_type": "code",
      "execution_count": 6,
      "metadata": {
        "id": "jxOU74bN1k0K"
      },
      "outputs": [],
      "source": [
        "class PHMDataset(Dataset):\n",
        "    '''\n",
        "    PHM IEEE 2012 Data Challenge Training data set (6 different Mechanical Bearings data)\n",
        "    '''\n",
        "    def __init__(self, pfiles=[]):\n",
        "        self.data = {'x': [], 'y': []}\n",
        "        for pfile in pfiles:\n",
        "            _data = load_data_from_pfile(pfile)\n",
        "            self.data['x'].append(_data['x'])\n",
        "            self.data['y'].append(_data['y'])\n",
        "        self.data['x'] = np.concatenate(self.data['x'])\n",
        "        self.data['y'] = np.concatenate(self.data['y'])[:,np.newaxis]\n",
        "\n",
        "    def __len__(self):\n",
        "        return self.data['x'].shape[0]\n",
        "    \n",
        "    def __getitem__(self, i):\n",
        "        sample = {'x': torch.from_numpy(self.data['x'][i]), 'y': torch.from_numpy(self.data['y'][i])}\n",
        "        return sample"
      ]
    },
    {
      "cell_type": "markdown",
      "metadata": {
        "id": "nCbqJPrs_RiD"
      },
      "source": [
        "#6개의 train 데이터를 sorting"
      ]
    },
    {
      "cell_type": "code",
      "execution_count": 11,
      "metadata": {
        "id": "QJmHXC-2hr1Y"
      },
      "outputs": [],
      "source": [
        "pkzfiles_path = '/home/i4624/vscode/gitclone/SWbootProject_2023-7/Team-project/data/ieee-phm-2012-data-challenge-dataset-master/Learning_set/'\n",
        "train_pfiles = [pkzfiles_path+'bearing1_1_train_data.pkz']"
      ]
    },
    {
      "cell_type": "markdown",
      "metadata": {
        "id": "Rgcoz17mBOAx"
      },
      "source": [
        "(Total length (= train 데이터셋의 길이)"
      ]
    },
    {
      "cell_type": "code",
      "execution_count": 12,
      "metadata": {
        "colab": {
          "base_uri": "https://localhost:8080/"
        },
        "id": "kaTT-2gh9KP1",
        "outputId": "edc67c13-f7eb-4716-9977-6e5e04fdeb42"
      },
      "outputs": [
        {
          "name": "stdout",
          "output_type": "stream",
          "text": [
            "2523\n"
          ]
        }
      ],
      "source": [
        "train_dataset = PHMDataset(pfiles=train_pfiles)\n",
        "print(len(train_dataset))"
      ]
    },
    {
      "cell_type": "markdown",
      "metadata": {
        "id": "Ky2IA8yCDJ2P"
      },
      "source": [
        "한번에 4개의 데이터셋을 로드"
      ]
    },
    {
      "cell_type": "code",
      "execution_count": 13,
      "metadata": {
        "id": "qA3p0TNPB5GV"
      },
      "outputs": [],
      "source": [
        "train_dataloader = DataLoader(train_dataset, batch_size=4, shuffle=True, num_workers=0)"
      ]
    },
    {
      "cell_type": "code",
      "execution_count": 14,
      "metadata": {
        "colab": {
          "base_uri": "https://localhost:8080/"
        },
        "id": "vhzGviLBh3Pk",
        "outputId": "b7dc2ebe-fdf8-4f6f-abd6-2ee4b170233e"
      },
      "outputs": [
        {
          "name": "stdout",
          "output_type": "stream",
          "text": [
            "0 torch.Size([4, 2, 128, 128]) torch.Size([4, 1])\n",
            "1 torch.Size([4, 2, 128, 128]) torch.Size([4, 1])\n",
            "2 torch.Size([4, 2, 128, 128]) torch.Size([4, 1])\n",
            "3 torch.Size([4, 2, 128, 128]) torch.Size([4, 1])\n",
            "4 torch.Size([4, 2, 128, 128]) torch.Size([4, 1])\n"
          ]
        }
      ],
      "source": [
        "for i, batch in enumerate(train_dataloader):\n",
        "    print(i, batch['x'].size(), batch['y'].size())\n",
        "    if i==4:\n",
        "        break"
      ]
    }
  ],
  "metadata": {
    "colab": {
      "collapsed_sections": [],
      "name": "Torch_Dataset_Dataloader.ipynb",
      "provenance": []
    },
    "kernelspec": {
      "display_name": "Python 3",
      "name": "python3"
    },
    "language_info": {
      "codemirror_mode": {
        "name": "ipython",
        "version": 3
      },
      "file_extension": ".py",
      "mimetype": "text/x-python",
      "name": "python",
      "nbconvert_exporter": "python",
      "pygments_lexer": "ipython3",
      "version": "3.10.12"
    }
  },
  "nbformat": 4,
  "nbformat_minor": 0
}
