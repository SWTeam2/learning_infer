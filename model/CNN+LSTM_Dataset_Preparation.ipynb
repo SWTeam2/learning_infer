{
  "cells": [
    {
      "cell_type": "code",
      "execution_count": null,
      "metadata": {
        "colab": {
          "base_uri": "https://localhost:8080/"
        },
        "id": "o94_buEEjW1R",
        "outputId": "9ef8ab19-bf8d-4b35-dc11-97e33857ffd0"
      },
      "outputs": [
        {
          "name": "stdout",
          "output_type": "stream",
          "text": [
            "Mounted at /content/drive\n"
          ]
        }
      ],
      "source": [
        "from google.colab import drive\n",
        "drive.mount('/content/drive')"
      ]
    },
    {
      "cell_type": "code",
      "execution_count": 1,
      "metadata": {
        "id": "P3OpeDW3lUnS"
      },
      "outputs": [],
      "source": [
        "import os\n",
        "import numpy as np\n",
        "import pywt\n",
        "import pandas as pd\n",
        "import pickle as pkl\n",
        "from matplotlib import pyplot as plt"
      ]
    },
    {
      "cell_type": "markdown",
      "metadata": {},
      "source": [
        "변수설정"
      ]
    },
    {
      "cell_type": "code",
      "execution_count": 4,
      "metadata": {
        "id": "bO4u5LhVayXC"
      },
      "outputs": [],
      "source": [
        "DATA_POINTS_PER_FILE = 2560\n",
        "TIME_PER_REC = 0.1\n",
        "SAMPLING_FREQ = 25600 # 25.6 KHz\n",
        "SAMPLING_PERIOD = 1.0/SAMPLING_FREQ\n",
        "\n",
        "WIN_SIZE = 20\n",
        "WAVELET_TYPE = 'morl'\n",
        "\n",
        "VAL_SPLIT = 0.2\n",
        "\n",
        "SEQ_LEN = 10 # sequence length"
      ]
    },
    {
      "cell_type": "code",
      "execution_count": 5,
      "metadata": {
        "id": "WPF5_p_MIGT7"
      },
      "outputs": [],
      "source": [
        "def load_df(pkz_file):  \n",
        "    with open(pkz_file, 'rb') as f:\n",
        "        df=pkl.load(f)\n",
        "    return df"
      ]
    },
    {
      "cell_type": "code",
      "execution_count": 6,
      "metadata": {
        "id": "jDRSmEMSLUhb"
      },
      "outputs": [],
      "source": [
        "def df_row_ind_to_data_range(ind):  \n",
        "    return (DATA_POINTS_PER_FILE*ind, DATA_POINTS_PER_FILE*(ind+1))"
      ]
    },
    {
      "cell_type": "markdown",
      "metadata": {},
      "source": [
        "이미지 특징 추출"
      ]
    },
    {
      "cell_type": "code",
      "execution_count": 7,
      "metadata": {
        "id": "30XKypeotvrU"
      },
      "outputs": [],
      "source": [
        "def extract_feature_image(ind, feature_name='horiz accel'):   \n",
        "    data_range = df_row_ind_to_data_range(ind)\n",
        "    data = df[feature_name].values[data_range[0]:data_range[1]]\n",
        "\n",
        "    data = np.array([np.mean(data[i:i+WIN_SIZE]) for i in range(0, DATA_POINTS_PER_FILE, WIN_SIZE)])\n",
        "\n",
        "    coef, _ = pywt.cwt(data, np.linspace(1,128,128), WAVELET_TYPE)\n",
        "\n",
        "    coef = np.log2(coef**2+0.001)\n",
        "\n",
        "    coef = (coef - coef.min())/(coef.max() - coef.min()) \n",
        "    return coef"
      ]
    },
    {
      "cell_type": "markdown",
      "metadata": {
        "id": "MKKwBH79B1Rj"
      },
      "source": [
        "#pkz파일 메인 디렉토리 설정"
      ]
    },
    {
      "cell_type": "code",
      "execution_count": 8,
      "metadata": {
        "id": "i7EMtNNh_SLU"
      },
      "outputs": [],
      "source": [
        "main_dir = '../data/Learning_set/'"
      ]
    },
    {
      "cell_type": "markdown",
      "metadata": {
        "id": "tkk7UDxty6WH"
      },
      "source": [
        "#Bearing1_1"
      ]
    },
    {
      "cell_type": "code",
      "execution_count": 9,
      "metadata": {
        "colab": {
          "base_uri": "https://localhost:8080/",
          "height": 204
        },
        "id": "KyFEFWSCEptH",
        "outputId": "5a682a62-37bb-46bf-f705-c438dcc6c0e6"
      },
      "outputs": [
        {
          "data": {
            "text/html": [
              "<div>\n",
              "<style scoped>\n",
              "    .dataframe tbody tr th:only-of-type {\n",
              "        vertical-align: middle;\n",
              "    }\n",
              "\n",
              "    .dataframe tbody tr th {\n",
              "        vertical-align: top;\n",
              "    }\n",
              "\n",
              "    .dataframe thead th {\n",
              "        text-align: right;\n",
              "    }\n",
              "</style>\n",
              "<table border=\"1\" class=\"dataframe\">\n",
              "  <thead>\n",
              "    <tr style=\"text-align: right;\">\n",
              "      <th></th>\n",
              "      <th>hour</th>\n",
              "      <th>minute</th>\n",
              "      <th>second</th>\n",
              "      <th>microsecond</th>\n",
              "      <th>horiz accel</th>\n",
              "      <th>vert accel</th>\n",
              "    </tr>\n",
              "  </thead>\n",
              "  <tbody>\n",
              "    <tr>\n",
              "      <th>0</th>\n",
              "      <td>9</td>\n",
              "      <td>39</td>\n",
              "      <td>39</td>\n",
              "      <td>65664.0</td>\n",
              "      <td>0.625779</td>\n",
              "      <td>-0.185953</td>\n",
              "    </tr>\n",
              "    <tr>\n",
              "      <th>1</th>\n",
              "      <td>9</td>\n",
              "      <td>39</td>\n",
              "      <td>39</td>\n",
              "      <td>65703.0</td>\n",
              "      <td>0.458504</td>\n",
              "      <td>-0.538453</td>\n",
              "    </tr>\n",
              "    <tr>\n",
              "      <th>2</th>\n",
              "      <td>9</td>\n",
              "      <td>39</td>\n",
              "      <td>39</td>\n",
              "      <td>65742.0</td>\n",
              "      <td>0.049784</td>\n",
              "      <td>0.262267</td>\n",
              "    </tr>\n",
              "    <tr>\n",
              "      <th>3</th>\n",
              "      <td>9</td>\n",
              "      <td>39</td>\n",
              "      <td>39</td>\n",
              "      <td>65781.0</td>\n",
              "      <td>-0.312906</td>\n",
              "      <td>0.071737</td>\n",
              "    </tr>\n",
              "    <tr>\n",
              "      <th>4</th>\n",
              "      <td>9</td>\n",
              "      <td>39</td>\n",
              "      <td>39</td>\n",
              "      <td>65820.0</td>\n",
              "      <td>-0.686911</td>\n",
              "      <td>0.323440</td>\n",
              "    </tr>\n",
              "  </tbody>\n",
              "</table>\n",
              "</div>"
            ],
            "text/plain": [
              "   hour  minute  second  microsecond  horiz accel  vert accel\n",
              "0     9      39      39      65664.0     0.625779   -0.185953\n",
              "1     9      39      39      65703.0     0.458504   -0.538453\n",
              "2     9      39      39      65742.0     0.049784    0.262267\n",
              "3     9      39      39      65781.0    -0.312906    0.071737\n",
              "4     9      39      39      65820.0    -0.686911    0.323440"
            ]
          },
          "execution_count": 9,
          "metadata": {},
          "output_type": "execute_result"
        }
      ],
      "source": [
        "pkz_file = main_dir + 'Bearing1_1_noise.pkz'\n",
        "df = load_df(pkz_file)\n",
        "df.head()"
      ]
    },
    {
      "cell_type": "code",
      "execution_count": 12,
      "metadata": {
        "colab": {
          "base_uri": "https://localhost:8080/"
        },
        "id": "_tQFrM__Ous_",
        "outputId": "171fd459-d5d6-49ae-dfd4-2fb9dbb3190b"
      },
      "outputs": [
        {
          "name": "stdout",
          "output_type": "stream",
          "text": [
            "6545920 2557\n"
          ]
        }
      ],
      "source": [
        "no_of_rows = df.shape[0]\n",
        "no_of_files = int(no_of_rows / DATA_POINTS_PER_FILE)\n",
        "print(no_of_rows, no_of_files)"
      ]
    },
    {
      "cell_type": "code",
      "execution_count": 13,
      "metadata": {
        "colab": {
          "base_uri": "https://localhost:8080/"
        },
        "id": "I_krMSWG0Gpz",
        "outputId": "6ce1ca69-8c26-4984-ede4-457f7e1aa67c"
      },
      "outputs": [
        {
          "name": "stdout",
          "output_type": "stream",
          "text": [
            "2557 (2557, 2, 128, 128) (2557,)\n"
          ]
        }
      ],
      "source": [
        "data = {'x': [], 'y': []}\n",
        "for i in range(0, no_of_files):\n",
        "    coef_h = extract_feature_image(i, feature_name='horiz accel')\n",
        "    coef_v = extract_feature_image(i, feature_name='vert accel')\n",
        "    x_ = np.array([coef_h, coef_v])\n",
        "    y_ = i/(no_of_files-1)\n",
        "    data['x'].append(x_)\n",
        "    data['y'].append(y_)\n",
        "data['x']=np.array(data['x'])\n",
        "data['y']=np.array(data['y'])\n",
        "\n",
        "assert data['x'].shape==(no_of_files, 2, 128, 128)\n",
        "print(no_of_files, data['x'].shape, data['y'].shape)"
      ]
    },
    {
      "cell_type": "markdown",
      "metadata": {
        "id": "3aM8UQ79LSBD"
      },
      "source": [
        "#pkz파일로 저장"
      ]
    },
    {
      "cell_type": "code",
      "execution_count": 14,
      "metadata": {
        "id": "X8QRKXNi-ov1"
      },
      "outputs": [],
      "source": [
        "out_file = main_dir+'bearing1_1_noise_all_data.pkz'\n",
        "with open(out_file, 'wb') as f:\n",
        "    pkl.dump(data, f)"
      ]
    },
    {
      "cell_type": "markdown",
      "metadata": {
        "id": "KP4InmEZQ6UF"
      },
      "source": [
        "#Bearing1_2"
      ]
    },
    {
      "cell_type": "code",
      "execution_count": 15,
      "metadata": {
        "colab": {
          "base_uri": "https://localhost:8080/",
          "height": 204
        },
        "id": "tg25lR0zJw5m",
        "outputId": "71d67905-c5d5-4bd2-f283-7bdb912ea1fa"
      },
      "outputs": [
        {
          "data": {
            "text/html": [
              "<div>\n",
              "<style scoped>\n",
              "    .dataframe tbody tr th:only-of-type {\n",
              "        vertical-align: middle;\n",
              "    }\n",
              "\n",
              "    .dataframe tbody tr th {\n",
              "        vertical-align: top;\n",
              "    }\n",
              "\n",
              "    .dataframe thead th {\n",
              "        text-align: right;\n",
              "    }\n",
              "</style>\n",
              "<table border=\"1\" class=\"dataframe\">\n",
              "  <thead>\n",
              "    <tr style=\"text-align: right;\">\n",
              "      <th></th>\n",
              "      <th>hour</th>\n",
              "      <th>minute</th>\n",
              "      <th>second</th>\n",
              "      <th>microsecond</th>\n",
              "      <th>horiz accel</th>\n",
              "      <th>vert accel</th>\n",
              "    </tr>\n",
              "  </thead>\n",
              "  <tbody>\n",
              "    <tr>\n",
              "      <th>0</th>\n",
              "      <td>8</td>\n",
              "      <td>47</td>\n",
              "      <td>5</td>\n",
              "      <td>196910.0</td>\n",
              "      <td>-0.008994</td>\n",
              "      <td>-0.479514</td>\n",
              "    </tr>\n",
              "    <tr>\n",
              "      <th>1</th>\n",
              "      <td>8</td>\n",
              "      <td>47</td>\n",
              "      <td>5</td>\n",
              "      <td>196950.0</td>\n",
              "      <td>0.161053</td>\n",
              "      <td>-0.331896</td>\n",
              "    </tr>\n",
              "    <tr>\n",
              "      <th>2</th>\n",
              "      <td>8</td>\n",
              "      <td>47</td>\n",
              "      <td>5</td>\n",
              "      <td>196990.0</td>\n",
              "      <td>0.357321</td>\n",
              "      <td>0.492729</td>\n",
              "    </tr>\n",
              "    <tr>\n",
              "      <th>3</th>\n",
              "      <td>8</td>\n",
              "      <td>47</td>\n",
              "      <td>5</td>\n",
              "      <td>197030.0</td>\n",
              "      <td>0.214035</td>\n",
              "      <td>0.084905</td>\n",
              "    </tr>\n",
              "    <tr>\n",
              "      <th>4</th>\n",
              "      <td>8</td>\n",
              "      <td>47</td>\n",
              "      <td>5</td>\n",
              "      <td>197070.0</td>\n",
              "      <td>0.443329</td>\n",
              "      <td>0.095946</td>\n",
              "    </tr>\n",
              "  </tbody>\n",
              "</table>\n",
              "</div>"
            ],
            "text/plain": [
              "   hour  minute  second  microsecond  horiz accel  vert accel\n",
              "0     8      47       5     196910.0    -0.008994   -0.479514\n",
              "1     8      47       5     196950.0     0.161053   -0.331896\n",
              "2     8      47       5     196990.0     0.357321    0.492729\n",
              "3     8      47       5     197030.0     0.214035    0.084905\n",
              "4     8      47       5     197070.0     0.443329    0.095946"
            ]
          },
          "execution_count": 15,
          "metadata": {},
          "output_type": "execute_result"
        }
      ],
      "source": [
        "pkz_file = main_dir + 'Bearing1_2_noise.pkz'\n",
        "df = load_df(pkz_file)\n",
        "df.head()"
      ]
    },
    {
      "cell_type": "code",
      "execution_count": 16,
      "metadata": {
        "colab": {
          "base_uri": "https://localhost:8080/"
        },
        "id": "L7QB5sRnZsLj",
        "outputId": "5d6f2014-aeb0-42e7-d915-02734570b4e6"
      },
      "outputs": [
        {
          "name": "stdout",
          "output_type": "stream",
          "text": [
            "2229760 871\n"
          ]
        }
      ],
      "source": [
        "no_of_rows = df.shape[0]\n",
        "no_of_files = int(no_of_rows / DATA_POINTS_PER_FILE)\n",
        "print(no_of_rows, no_of_files)"
      ]
    },
    {
      "cell_type": "code",
      "execution_count": 17,
      "metadata": {
        "colab": {
          "base_uri": "https://localhost:8080/"
        },
        "id": "Qo9Ap6q_Z7Fk",
        "outputId": "23c24e01-fd80-4cb6-b3b6-24f41e022b0d"
      },
      "outputs": [
        {
          "name": "stdout",
          "output_type": "stream",
          "text": [
            "871 (871, 2, 128, 128) (871,)\n"
          ]
        }
      ],
      "source": [
        "data = {'x': [], 'y': []}\n",
        "for i in range(0, no_of_files):\n",
        "    coef_h = extract_feature_image(i, feature_name='horiz accel')\n",
        "    coef_v = extract_feature_image(i, feature_name='vert accel')\n",
        "    x_ = np.array([coef_h, coef_v])\n",
        "    y_ = i/(no_of_files-1)\n",
        "    data['x'].append(x_)\n",
        "    data['y'].append(y_)\n",
        "data['x']=np.array(data['x'])\n",
        "data['y']=np.array(data['y'])\n",
        "\n",
        "assert data['x'].shape==(no_of_files, 2, 128, 128)\n",
        "print(no_of_files, data['x'].shape, data['y'].shape)"
      ]
    },
    {
      "cell_type": "code",
      "execution_count": 18,
      "metadata": {
        "id": "EpS-wgb4ab0f"
      },
      "outputs": [],
      "source": [
        "out_file = main_dir+'bearing1_2_noise_all_data.pkz'\n",
        "with open(out_file, 'wb') as f:\n",
        "    pkl.dump(data, f)"
      ]
    },
    {
      "cell_type": "markdown",
      "metadata": {},
      "source": [
        "# 간편화"
      ]
    },
    {
      "cell_type": "code",
      "execution_count": 21,
      "metadata": {},
      "outputs": [],
      "source": [
        "main_dir = '../data/Full_Test_Set/'"
      ]
    },
    {
      "cell_type": "code",
      "execution_count": 22,
      "metadata": {},
      "outputs": [],
      "source": [
        "def process_and_save_data(main_dir, pkz_file):\n",
        "    df = load_df(pkz_file)\n",
        "    \n",
        "    no_of_rows = df.shape[0]\n",
        "    no_of_files = int(no_of_rows / DATA_POINTS_PER_FILE)  # Define DATA_POINTS_PER_FILE\n",
        "    print(no_of_rows, no_of_files)\n",
        "    \n",
        "    data = {'x': [], 'y': []}\n",
        "    for i in range(0, no_of_files):\n",
        "        coef_h = extract_feature_image(i, feature_name='horiz accel')\n",
        "        coef_v = extract_feature_image(i, feature_name='vert accel')\n",
        "        x_ = np.array([coef_h, coef_v])\n",
        "        y_ = i / (no_of_files - 1)\n",
        "        data['x'].append(x_)\n",
        "        data['y'].append(y_)\n",
        "    data['x'] = np.array(data['x'])\n",
        "    data['y'] = np.array(data['y'])\n",
        "    \n",
        "    assert data['x'].shape == (no_of_files, 2, 128, 128)\n",
        "    print(no_of_files, data['x'].shape, data['y'].shape)\n",
        "    \n",
        "    original_file_name = os.path.basename(pkz_file)\n",
        "    out_file = os.path.join(main_dir, original_file_name+ '_all_data.pkz')\n",
        "    with open(out_file, 'wb') as f:\n",
        "        pkl.dump(data, f)\n",
        "    print('Data processed and saved to', out_file)"
      ]
    },
    {
      "cell_type": "code",
      "execution_count": 23,
      "metadata": {},
      "outputs": [
        {
          "name": "stdout",
          "output_type": "stream",
          "text": [
            "6080000 2375\n"
          ]
        },
        {
          "name": "stderr",
          "output_type": "stream",
          "text": [
            "/home/i4624/.local/lib/python3.10/site-packages/numpy/core/fromnumeric.py:3464: RuntimeWarning: Mean of empty slice.\n",
            "  return _methods._mean(a, axis=axis, dtype=dtype,\n",
            "/home/i4624/.local/lib/python3.10/site-packages/numpy/core/_methods.py:192: RuntimeWarning: invalid value encountered in scalar divide\n",
            "  ret = ret.dtype.type(ret / rcount)\n"
          ]
        },
        {
          "name": "stdout",
          "output_type": "stream",
          "text": [
            "2375 (2375, 2, 128, 128) (2375,)\n",
            "Data processed and saved to ../data/Full_Test_Set/Bearing1_3_noise.pkz_all_data.pkz\n",
            "3655680 1428\n"
          ]
        },
        {
          "name": "stderr",
          "output_type": "stream",
          "text": [
            "/home/i4624/.local/lib/python3.10/site-packages/numpy/core/fromnumeric.py:3464: RuntimeWarning: Mean of empty slice.\n",
            "  return _methods._mean(a, axis=axis, dtype=dtype,\n",
            "/home/i4624/.local/lib/python3.10/site-packages/numpy/core/_methods.py:192: RuntimeWarning: invalid value encountered in scalar divide\n",
            "  ret = ret.dtype.type(ret / rcount)\n"
          ]
        },
        {
          "name": "stdout",
          "output_type": "stream",
          "text": [
            "1428 (1428, 2, 128, 128) (1428,)\n",
            "Data processed and saved to ../data/Full_Test_Set/Bearing1_4_noise.pkz_all_data.pkz\n",
            "6305280 2463\n"
          ]
        },
        {
          "name": "stderr",
          "output_type": "stream",
          "text": [
            "/home/i4624/.local/lib/python3.10/site-packages/numpy/core/fromnumeric.py:3464: RuntimeWarning: Mean of empty slice.\n",
            "  return _methods._mean(a, axis=axis, dtype=dtype,\n",
            "/home/i4624/.local/lib/python3.10/site-packages/numpy/core/_methods.py:192: RuntimeWarning: invalid value encountered in scalar divide\n",
            "  ret = ret.dtype.type(ret / rcount)\n"
          ]
        },
        {
          "name": "stdout",
          "output_type": "stream",
          "text": [
            "2463 (2463, 2, 128, 128) (2463,)\n",
            "Data processed and saved to ../data/Full_Test_Set/Bearing1_5_noise.pkz_all_data.pkz\n",
            "6266880 2448\n"
          ]
        },
        {
          "name": "stderr",
          "output_type": "stream",
          "text": [
            "/home/i4624/.local/lib/python3.10/site-packages/numpy/core/fromnumeric.py:3464: RuntimeWarning: Mean of empty slice.\n",
            "  return _methods._mean(a, axis=axis, dtype=dtype,\n",
            "/home/i4624/.local/lib/python3.10/site-packages/numpy/core/_methods.py:192: RuntimeWarning: invalid value encountered in scalar divide\n",
            "  ret = ret.dtype.type(ret / rcount)\n"
          ]
        },
        {
          "name": "stdout",
          "output_type": "stream",
          "text": [
            "2448 (2448, 2, 128, 128) (2448,)\n",
            "Data processed and saved to ../data/Full_Test_Set/Bearing1_6_noise.pkz_all_data.pkz\n",
            "5783040 2259\n"
          ]
        },
        {
          "name": "stderr",
          "output_type": "stream",
          "text": [
            "/home/i4624/.local/lib/python3.10/site-packages/numpy/core/fromnumeric.py:3464: RuntimeWarning: Mean of empty slice.\n",
            "  return _methods._mean(a, axis=axis, dtype=dtype,\n",
            "/home/i4624/.local/lib/python3.10/site-packages/numpy/core/_methods.py:192: RuntimeWarning: invalid value encountered in scalar divide\n",
            "  ret = ret.dtype.type(ret / rcount)\n"
          ]
        },
        {
          "name": "stdout",
          "output_type": "stream",
          "text": [
            "2259 (2259, 2, 128, 128) (2259,)\n",
            "Data processed and saved to ../data/Full_Test_Set/Bearing1_7_noise.pkz_all_data.pkz\n"
          ]
        }
      ],
      "source": [
        "process_and_save_data(main_dir, os.path.join(main_dir, 'Bearing1_3_noise.pkz'))\n",
        "process_and_save_data(main_dir, os.path.join(main_dir, 'Bearing1_4_noise.pkz'))\n",
        "process_and_save_data(main_dir, os.path.join(main_dir, 'Bearing1_5_noise.pkz'))\n",
        "process_and_save_data(main_dir, os.path.join(main_dir, 'Bearing1_6_noise.pkz'))\n",
        "process_and_save_data(main_dir, os.path.join(main_dir, 'Bearing1_7_noise.pkz'))"
      ]
    },
    {
      "cell_type": "markdown",
      "metadata": {},
      "source": [
        "#Bearing1_1noise"
      ]
    },
    {
      "cell_type": "code",
      "execution_count": null,
      "metadata": {},
      "outputs": [],
      "source": [
        "pkz_file = main_dir + 'bearing1_2.pkz'\n",
        "df = load_df(pkz_file)\n",
        "df.head()\n",
        "no_of_rows = df.shape[0]\n",
        "no_of_files = int(no_of_rows / DATA_POINTS_PER_FILE)\n",
        "print(no_of_rows, no_of_files)\n",
        "data = {'x': [], 'y': []}\n",
        "for i in range(0, no_of_files):\n",
        "    coef_h = extract_feature_image(i, feature_name='horiz accel')\n",
        "    coef_v = extract_feature_image(i, feature_name='vert accel')\n",
        "    x_ = np.array([coef_h, coef_v])\n",
        "    y_ = i/(no_of_files-1)\n",
        "    data['x'].append(x_)\n",
        "    data['y'].append(y_)\n",
        "data['x']=np.array(data['x'])\n",
        "data['y']=np.array(data['y'])\n",
        "\n",
        "assert data['x'].shape==(no_of_files, 2, 128, 128)\n",
        "print(no_of_files, data['x'].shape, data['y'].shape)\n",
        "out_file = main_dir+'bearing1_2_all_data.pkz'\n",
        "with open(out_file, 'wb') as f:\n",
        "    pkl.dump(data, f)"
      ]
    },
    {
      "cell_type": "markdown",
      "metadata": {
        "id": "XBqdkKx8bIuj"
      },
      "source": [
        "#Bearing2_1"
      ]
    },
    {
      "cell_type": "code",
      "execution_count": 18,
      "metadata": {
        "colab": {
          "base_uri": "https://localhost:8080/",
          "height": 204
        },
        "id": "SNv33Ettao8J",
        "outputId": "c3fe3469-26dd-4d47-a9fa-422af7790fa2"
      },
      "outputs": [
        {
          "data": {
            "text/html": [
              "<div>\n",
              "<style scoped>\n",
              "    .dataframe tbody tr th:only-of-type {\n",
              "        vertical-align: middle;\n",
              "    }\n",
              "\n",
              "    .dataframe tbody tr th {\n",
              "        vertical-align: top;\n",
              "    }\n",
              "\n",
              "    .dataframe thead th {\n",
              "        text-align: right;\n",
              "    }\n",
              "</style>\n",
              "<table border=\"1\" class=\"dataframe\">\n",
              "  <thead>\n",
              "    <tr style=\"text-align: right;\">\n",
              "      <th></th>\n",
              "      <th>hour</th>\n",
              "      <th>minute</th>\n",
              "      <th>second</th>\n",
              "      <th>microsecond</th>\n",
              "      <th>horiz accel</th>\n",
              "      <th>vert accel</th>\n",
              "    </tr>\n",
              "  </thead>\n",
              "  <tbody>\n",
              "    <tr>\n",
              "      <th>0</th>\n",
              "      <td>8</td>\n",
              "      <td>14</td>\n",
              "      <td>15</td>\n",
              "      <td>884410.0</td>\n",
              "      <td>-0.391</td>\n",
              "      <td>0.011</td>\n",
              "    </tr>\n",
              "    <tr>\n",
              "      <th>1</th>\n",
              "      <td>8</td>\n",
              "      <td>14</td>\n",
              "      <td>15</td>\n",
              "      <td>884450.0</td>\n",
              "      <td>0.292</td>\n",
              "      <td>0.133</td>\n",
              "    </tr>\n",
              "    <tr>\n",
              "      <th>2</th>\n",
              "      <td>8</td>\n",
              "      <td>14</td>\n",
              "      <td>15</td>\n",
              "      <td>884490.0</td>\n",
              "      <td>0.596</td>\n",
              "      <td>0.024</td>\n",
              "    </tr>\n",
              "    <tr>\n",
              "      <th>3</th>\n",
              "      <td>8</td>\n",
              "      <td>14</td>\n",
              "      <td>15</td>\n",
              "      <td>884530.0</td>\n",
              "      <td>0.230</td>\n",
              "      <td>0.272</td>\n",
              "    </tr>\n",
              "    <tr>\n",
              "      <th>4</th>\n",
              "      <td>8</td>\n",
              "      <td>14</td>\n",
              "      <td>15</td>\n",
              "      <td>884570.0</td>\n",
              "      <td>-0.225</td>\n",
              "      <td>0.272</td>\n",
              "    </tr>\n",
              "  </tbody>\n",
              "</table>\n",
              "</div>"
            ],
            "text/plain": [
              "   hour  minute  second  microsecond  horiz accel  vert accel\n",
              "0     8      14      15     884410.0       -0.391       0.011\n",
              "1     8      14      15     884450.0        0.292       0.133\n",
              "2     8      14      15     884490.0        0.596       0.024\n",
              "3     8      14      15     884530.0        0.230       0.272\n",
              "4     8      14      15     884570.0       -0.225       0.272"
            ]
          },
          "execution_count": 18,
          "metadata": {},
          "output_type": "execute_result"
        }
      ],
      "source": [
        "pkz_file = main_dir + 'bearing2_1.pkz'\n",
        "df = load_df(pkz_file)\n",
        "df.head()"
      ]
    },
    {
      "cell_type": "code",
      "execution_count": 19,
      "metadata": {
        "colab": {
          "base_uri": "https://localhost:8080/"
        },
        "id": "qofa7FLlZVfL",
        "outputId": "7689e927-2013-4e17-90e2-3c4e82062062"
      },
      "outputs": [
        {
          "name": "stdout",
          "output_type": "stream",
          "text": [
            "2332160 911\n"
          ]
        }
      ],
      "source": [
        "no_of_rows = df.shape[0]\n",
        "no_of_files = int(no_of_rows / DATA_POINTS_PER_FILE)\n",
        "print(no_of_rows, no_of_files)"
      ]
    },
    {
      "cell_type": "code",
      "execution_count": 20,
      "metadata": {
        "colab": {
          "base_uri": "https://localhost:8080/"
        },
        "id": "rJPWZ0GOacnQ",
        "outputId": "065dfce6-dbc4-45ef-90da-5f7614b44cc2"
      },
      "outputs": [
        {
          "name": "stdout",
          "output_type": "stream",
          "text": [
            "911 (911, 2, 128, 128) (911,)\n"
          ]
        }
      ],
      "source": [
        "data = {'x': [], 'y': []}\n",
        "for i in range(0, no_of_files):\n",
        "    coef_h = extract_feature_image(i, feature_name='horiz accel')\n",
        "    coef_v = extract_feature_image(i, feature_name='vert accel')\n",
        "    x_ = np.array([coef_h, coef_v])\n",
        "    y_ = i/(no_of_files-1)\n",
        "    data['x'].append(x_)\n",
        "    data['y'].append(y_)\n",
        "data['x']=np.array(data['x'])\n",
        "data['y']=np.array(data['y'])\n",
        "\n",
        "assert data['x'].shape==(no_of_files, 2, 128, 128)\n",
        "print(no_of_files, data['x'].shape, data['y'].shape)"
      ]
    },
    {
      "cell_type": "code",
      "execution_count": 21,
      "metadata": {
        "id": "5BcYWNHDajEc"
      },
      "outputs": [],
      "source": [
        "out_file = main_dir+'bearing2_1_all_data.pkz'\n",
        "with open(out_file, 'wb') as f:\n",
        "    pkl.dump(data, f)"
      ]
    },
    {
      "cell_type": "markdown",
      "metadata": {
        "id": "0nDQPVOdbGar"
      },
      "source": [
        "#Bearing2_2"
      ]
    },
    {
      "cell_type": "code",
      "execution_count": 22,
      "metadata": {
        "colab": {
          "base_uri": "https://localhost:8080/",
          "height": 204
        },
        "id": "Lkm7iBgobGCk",
        "outputId": "97c4c993-973e-471b-acf5-b90a76d6cfb6"
      },
      "outputs": [
        {
          "data": {
            "text/html": [
              "<div>\n",
              "<style scoped>\n",
              "    .dataframe tbody tr th:only-of-type {\n",
              "        vertical-align: middle;\n",
              "    }\n",
              "\n",
              "    .dataframe tbody tr th {\n",
              "        vertical-align: top;\n",
              "    }\n",
              "\n",
              "    .dataframe thead th {\n",
              "        text-align: right;\n",
              "    }\n",
              "</style>\n",
              "<table border=\"1\" class=\"dataframe\">\n",
              "  <thead>\n",
              "    <tr style=\"text-align: right;\">\n",
              "      <th></th>\n",
              "      <th>hour</th>\n",
              "      <th>minute</th>\n",
              "      <th>second</th>\n",
              "      <th>microsecond</th>\n",
              "      <th>horiz accel</th>\n",
              "      <th>vert accel</th>\n",
              "    </tr>\n",
              "  </thead>\n",
              "  <tbody>\n",
              "    <tr>\n",
              "      <th>0</th>\n",
              "      <td>7</td>\n",
              "      <td>40</td>\n",
              "      <td>33</td>\n",
              "      <td>540660.0</td>\n",
              "      <td>0.038</td>\n",
              "      <td>0.290</td>\n",
              "    </tr>\n",
              "    <tr>\n",
              "      <th>1</th>\n",
              "      <td>7</td>\n",
              "      <td>40</td>\n",
              "      <td>33</td>\n",
              "      <td>540700.0</td>\n",
              "      <td>0.125</td>\n",
              "      <td>-0.104</td>\n",
              "    </tr>\n",
              "    <tr>\n",
              "      <th>2</th>\n",
              "      <td>7</td>\n",
              "      <td>40</td>\n",
              "      <td>33</td>\n",
              "      <td>540740.0</td>\n",
              "      <td>0.035</td>\n",
              "      <td>-0.314</td>\n",
              "    </tr>\n",
              "    <tr>\n",
              "      <th>3</th>\n",
              "      <td>7</td>\n",
              "      <td>40</td>\n",
              "      <td>33</td>\n",
              "      <td>540780.0</td>\n",
              "      <td>-0.092</td>\n",
              "      <td>0.200</td>\n",
              "    </tr>\n",
              "    <tr>\n",
              "      <th>4</th>\n",
              "      <td>7</td>\n",
              "      <td>40</td>\n",
              "      <td>33</td>\n",
              "      <td>540820.0</td>\n",
              "      <td>0.033</td>\n",
              "      <td>0.211</td>\n",
              "    </tr>\n",
              "  </tbody>\n",
              "</table>\n",
              "</div>"
            ],
            "text/plain": [
              "   hour  minute  second  microsecond  horiz accel  vert accel\n",
              "0     7      40      33     540660.0        0.038       0.290\n",
              "1     7      40      33     540700.0        0.125      -0.104\n",
              "2     7      40      33     540740.0        0.035      -0.314\n",
              "3     7      40      33     540780.0       -0.092       0.200\n",
              "4     7      40      33     540820.0        0.033       0.211"
            ]
          },
          "execution_count": 22,
          "metadata": {},
          "output_type": "execute_result"
        }
      ],
      "source": [
        "pkz_file = main_dir + 'bearing2_2.pkz'\n",
        "df = load_df(pkz_file)\n",
        "df.head()"
      ]
    },
    {
      "cell_type": "code",
      "execution_count": 23,
      "metadata": {
        "colab": {
          "base_uri": "https://localhost:8080/"
        },
        "id": "r6nwzbIEdA8z",
        "outputId": "54641586-a064-4cbe-e733-039de8dfadcb"
      },
      "outputs": [
        {
          "name": "stdout",
          "output_type": "stream",
          "text": [
            "2040320 797\n"
          ]
        }
      ],
      "source": [
        "no_of_rows = df.shape[0]\n",
        "no_of_files = int(no_of_rows / DATA_POINTS_PER_FILE)\n",
        "print(no_of_rows, no_of_files)"
      ]
    },
    {
      "cell_type": "code",
      "execution_count": 24,
      "metadata": {
        "colab": {
          "base_uri": "https://localhost:8080/"
        },
        "id": "9wsGILXVdKI_",
        "outputId": "c0dd7a01-f740-4f29-cd95-3a93fb4545dc"
      },
      "outputs": [
        {
          "name": "stdout",
          "output_type": "stream",
          "text": [
            "797 (797, 2, 128, 128) (797,)\n"
          ]
        }
      ],
      "source": [
        "data = {'x': [], 'y': []}\n",
        "for i in range(0, no_of_files):\n",
        "    coef_h = extract_feature_image(i, feature_name='horiz accel')\n",
        "    coef_v = extract_feature_image(i, feature_name='vert accel')\n",
        "    x_ = np.array([coef_h, coef_v])\n",
        "    y_ = i/(no_of_files-1)\n",
        "    data['x'].append(x_)\n",
        "    data['y'].append(y_)\n",
        "data['x']=np.array(data['x'])\n",
        "data['y']=np.array(data['y'])\n",
        "\n",
        "assert data['x'].shape==(no_of_files, 2, 128, 128)\n",
        "print(no_of_files, data['x'].shape, data['y'].shape)"
      ]
    },
    {
      "cell_type": "code",
      "execution_count": 25,
      "metadata": {
        "id": "HSzsehnUdqf5"
      },
      "outputs": [],
      "source": [
        "out_file = main_dir+'bearing2_2_all_data.pkz'\n",
        "with open(out_file, 'wb') as f:\n",
        "    pkl.dump(data, f)"
      ]
    },
    {
      "cell_type": "markdown",
      "metadata": {
        "id": "FisP4bked7zj"
      },
      "source": [
        "#Bearing3_1"
      ]
    },
    {
      "cell_type": "code",
      "execution_count": 26,
      "metadata": {
        "colab": {
          "base_uri": "https://localhost:8080/",
          "height": 204
        },
        "id": "CyZUxLSJd1K8",
        "outputId": "5c6fe493-0719-4013-e9ba-847aca6f1e6c"
      },
      "outputs": [
        {
          "data": {
            "text/html": [
              "<div>\n",
              "<style scoped>\n",
              "    .dataframe tbody tr th:only-of-type {\n",
              "        vertical-align: middle;\n",
              "    }\n",
              "\n",
              "    .dataframe tbody tr th {\n",
              "        vertical-align: top;\n",
              "    }\n",
              "\n",
              "    .dataframe thead th {\n",
              "        text-align: right;\n",
              "    }\n",
              "</style>\n",
              "<table border=\"1\" class=\"dataframe\">\n",
              "  <thead>\n",
              "    <tr style=\"text-align: right;\">\n",
              "      <th></th>\n",
              "      <th>hour</th>\n",
              "      <th>minute</th>\n",
              "      <th>second</th>\n",
              "      <th>microsecond</th>\n",
              "      <th>horiz accel</th>\n",
              "      <th>vert accel</th>\n",
              "    </tr>\n",
              "  </thead>\n",
              "  <tbody>\n",
              "    <tr>\n",
              "      <th>0</th>\n",
              "      <td>9</td>\n",
              "      <td>10</td>\n",
              "      <td>39</td>\n",
              "      <td>118790.0</td>\n",
              "      <td>0.338</td>\n",
              "      <td>-0.263</td>\n",
              "    </tr>\n",
              "    <tr>\n",
              "      <th>1</th>\n",
              "      <td>9</td>\n",
              "      <td>10</td>\n",
              "      <td>39</td>\n",
              "      <td>118830.0</td>\n",
              "      <td>0.278</td>\n",
              "      <td>0.285</td>\n",
              "    </tr>\n",
              "    <tr>\n",
              "      <th>2</th>\n",
              "      <td>9</td>\n",
              "      <td>10</td>\n",
              "      <td>39</td>\n",
              "      <td>118870.0</td>\n",
              "      <td>0.143</td>\n",
              "      <td>0.590</td>\n",
              "    </tr>\n",
              "    <tr>\n",
              "      <th>3</th>\n",
              "      <td>9</td>\n",
              "      <td>10</td>\n",
              "      <td>39</td>\n",
              "      <td>118910.0</td>\n",
              "      <td>0.090</td>\n",
              "      <td>-0.193</td>\n",
              "    </tr>\n",
              "    <tr>\n",
              "      <th>4</th>\n",
              "      <td>9</td>\n",
              "      <td>10</td>\n",
              "      <td>39</td>\n",
              "      <td>118940.0</td>\n",
              "      <td>0.035</td>\n",
              "      <td>-0.109</td>\n",
              "    </tr>\n",
              "  </tbody>\n",
              "</table>\n",
              "</div>"
            ],
            "text/plain": [
              "   hour  minute  second  microsecond  horiz accel  vert accel\n",
              "0     9      10      39     118790.0        0.338      -0.263\n",
              "1     9      10      39     118830.0        0.278       0.285\n",
              "2     9      10      39     118870.0        0.143       0.590\n",
              "3     9      10      39     118910.0        0.090      -0.193\n",
              "4     9      10      39     118940.0        0.035      -0.109"
            ]
          },
          "execution_count": 26,
          "metadata": {},
          "output_type": "execute_result"
        }
      ],
      "source": [
        "pkz_file = main_dir + 'bearing3_1.pkz'\n",
        "df = load_df(pkz_file)\n",
        "df.head()"
      ]
    },
    {
      "cell_type": "code",
      "execution_count": 27,
      "metadata": {
        "colab": {
          "base_uri": "https://localhost:8080/"
        },
        "id": "DlVrscrQfcUQ",
        "outputId": "f2079e50-3983-40fe-d076-717956d86cc2"
      },
      "outputs": [
        {
          "name": "stdout",
          "output_type": "stream",
          "text": [
            "1318400 515\n"
          ]
        }
      ],
      "source": [
        "no_of_rows = df.shape[0]\n",
        "no_of_files = int(no_of_rows / DATA_POINTS_PER_FILE)\n",
        "print(no_of_rows, no_of_files)"
      ]
    },
    {
      "cell_type": "code",
      "execution_count": 28,
      "metadata": {
        "colab": {
          "base_uri": "https://localhost:8080/"
        },
        "id": "D1vxFppiftsG",
        "outputId": "25e07fb3-4bb0-4baa-faf4-f369bdfab549"
      },
      "outputs": [
        {
          "name": "stdout",
          "output_type": "stream",
          "text": [
            "515 (515, 2, 128, 128) (515,)\n"
          ]
        }
      ],
      "source": [
        "data = {'x': [], 'y': []}\n",
        "for i in range(0, no_of_files):\n",
        "    coef_h = extract_feature_image(i, feature_name='horiz accel')\n",
        "    coef_v = extract_feature_image(i, feature_name='vert accel')\n",
        "    x_ = np.array([coef_h, coef_v])\n",
        "    y_ = i/(no_of_files-1)\n",
        "    data['x'].append(x_)\n",
        "    data['y'].append(y_)\n",
        "data['x']=np.array(data['x'])\n",
        "data['y']=np.array(data['y'])\n",
        "\n",
        "assert data['x'].shape==(no_of_files, 2, 128, 128)\n",
        "print(no_of_files, data['x'].shape, data['y'].shape)"
      ]
    },
    {
      "cell_type": "code",
      "execution_count": 29,
      "metadata": {
        "id": "KTXWi_T-gEyT"
      },
      "outputs": [],
      "source": [
        "out_file = main_dir+'bearing3_1_all_data.pkz'\n",
        "with open(out_file, 'wb') as f:\n",
        "    pkl.dump(data, f)"
      ]
    },
    {
      "cell_type": "markdown",
      "metadata": {
        "id": "MkQH2H1-gW39"
      },
      "source": [
        "#Bearing3_2"
      ]
    },
    {
      "cell_type": "code",
      "execution_count": 30,
      "metadata": {
        "colab": {
          "base_uri": "https://localhost:8080/",
          "height": 204
        },
        "id": "FEIPB_hggVdg",
        "outputId": "79a0ac7e-79be-4e20-8b8b-b1e36584fb97"
      },
      "outputs": [
        {
          "data": {
            "text/html": [
              "<div>\n",
              "<style scoped>\n",
              "    .dataframe tbody tr th:only-of-type {\n",
              "        vertical-align: middle;\n",
              "    }\n",
              "\n",
              "    .dataframe tbody tr th {\n",
              "        vertical-align: top;\n",
              "    }\n",
              "\n",
              "    .dataframe thead th {\n",
              "        text-align: right;\n",
              "    }\n",
              "</style>\n",
              "<table border=\"1\" class=\"dataframe\">\n",
              "  <thead>\n",
              "    <tr style=\"text-align: right;\">\n",
              "      <th></th>\n",
              "      <th>hour</th>\n",
              "      <th>minute</th>\n",
              "      <th>second</th>\n",
              "      <th>microsecond</th>\n",
              "      <th>horiz accel</th>\n",
              "      <th>vert accel</th>\n",
              "    </tr>\n",
              "  </thead>\n",
              "  <tbody>\n",
              "    <tr>\n",
              "      <th>0</th>\n",
              "      <td>8</td>\n",
              "      <td>34</td>\n",
              "      <td>41</td>\n",
              "      <td>978160.0</td>\n",
              "      <td>-0.291</td>\n",
              "      <td>0.181</td>\n",
              "    </tr>\n",
              "    <tr>\n",
              "      <th>1</th>\n",
              "      <td>8</td>\n",
              "      <td>34</td>\n",
              "      <td>41</td>\n",
              "      <td>978200.0</td>\n",
              "      <td>0.146</td>\n",
              "      <td>0.185</td>\n",
              "    </tr>\n",
              "    <tr>\n",
              "      <th>2</th>\n",
              "      <td>8</td>\n",
              "      <td>34</td>\n",
              "      <td>41</td>\n",
              "      <td>978240.0</td>\n",
              "      <td>0.404</td>\n",
              "      <td>-0.159</td>\n",
              "    </tr>\n",
              "    <tr>\n",
              "      <th>3</th>\n",
              "      <td>8</td>\n",
              "      <td>34</td>\n",
              "      <td>41</td>\n",
              "      <td>978280.0</td>\n",
              "      <td>0.191</td>\n",
              "      <td>-0.179</td>\n",
              "    </tr>\n",
              "    <tr>\n",
              "      <th>4</th>\n",
              "      <td>8</td>\n",
              "      <td>34</td>\n",
              "      <td>41</td>\n",
              "      <td>978320.0</td>\n",
              "      <td>-0.180</td>\n",
              "      <td>0.072</td>\n",
              "    </tr>\n",
              "  </tbody>\n",
              "</table>\n",
              "</div>"
            ],
            "text/plain": [
              "   hour  minute  second  microsecond  horiz accel  vert accel\n",
              "0     8      34      41     978160.0       -0.291       0.181\n",
              "1     8      34      41     978200.0        0.146       0.185\n",
              "2     8      34      41     978240.0        0.404      -0.159\n",
              "3     8      34      41     978280.0        0.191      -0.179\n",
              "4     8      34      41     978320.0       -0.180       0.072"
            ]
          },
          "execution_count": 30,
          "metadata": {},
          "output_type": "execute_result"
        }
      ],
      "source": [
        "pkz_file = main_dir + 'bearing3_2.pkz'\n",
        "df = load_df(pkz_file)\n",
        "df.head()"
      ]
    },
    {
      "cell_type": "code",
      "execution_count": 31,
      "metadata": {
        "colab": {
          "base_uri": "https://localhost:8080/"
        },
        "id": "EBfsIE1RhzIF",
        "outputId": "af46e5d5-6597-40a9-f16e-32cad3c2e95e"
      },
      "outputs": [
        {
          "name": "stdout",
          "output_type": "stream",
          "text": [
            "4190720 1637\n"
          ]
        }
      ],
      "source": [
        "no_of_rows = df.shape[0]\n",
        "no_of_files = int(no_of_rows / DATA_POINTS_PER_FILE)\n",
        "print(no_of_rows, no_of_files)"
      ]
    },
    {
      "cell_type": "code",
      "execution_count": 32,
      "metadata": {
        "colab": {
          "base_uri": "https://localhost:8080/"
        },
        "id": "wYoooLK8iA7A",
        "outputId": "5e67b704-2eb7-488d-a2a3-8f2edd398476"
      },
      "outputs": [
        {
          "name": "stdout",
          "output_type": "stream",
          "text": [
            "1637 (1637, 2, 128, 128) (1637,)\n"
          ]
        }
      ],
      "source": [
        "data = {'x': [], 'y': []}\n",
        "for i in range(0, no_of_files):\n",
        "    coef_h = extract_feature_image(i, feature_name='horiz accel')\n",
        "    coef_v = extract_feature_image(i, feature_name='vert accel')\n",
        "    x_ = np.array([coef_h, coef_v])\n",
        "    y_ = i/(no_of_files-1)\n",
        "    data['x'].append(x_)\n",
        "    data['y'].append(y_)\n",
        "data['x']=np.array(data['x'])\n",
        "data['y']=np.array(data['y'])\n",
        "\n",
        "assert data['x'].shape==(no_of_files, 2, 128, 128)\n",
        "print(no_of_files, data['x'].shape, data['y'].shape)"
      ]
    },
    {
      "cell_type": "code",
      "execution_count": 33,
      "metadata": {
        "id": "a5k4HmSOijrk"
      },
      "outputs": [],
      "source": [
        "out_file = main_dir+'bearing3_2_all_data.pkz'\n",
        "with open(out_file, 'wb') as f:\n",
        "    pkl.dump(data, f)"
      ]
    }
  ],
  "metadata": {
    "colab": {
      "collapsed_sections": [
        "4wiBn8-9gwHX"
      ],
      "name": "CNN+LSTM_Dataset_Preparation.ipynb",
      "provenance": []
    },
    "kernelspec": {
      "display_name": "Python 3",
      "name": "python3"
    },
    "language_info": {
      "codemirror_mode": {
        "name": "ipython",
        "version": 3
      },
      "file_extension": ".py",
      "mimetype": "text/x-python",
      "name": "python",
      "nbconvert_exporter": "python",
      "pygments_lexer": "ipython3",
      "version": "3.10.12"
    }
  },
  "nbformat": 4,
  "nbformat_minor": 0
}
